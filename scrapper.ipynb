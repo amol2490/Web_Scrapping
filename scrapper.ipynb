{
 "cells": [
  {
   "cell_type": "code",
   "execution_count": 1,
   "id": "96059e61",
   "metadata": {},
   "outputs": [
    {
     "name": "stderr",
     "output_type": "stream",
     "text": [
      "/usr/lib/python3/dist-packages/requests/__init__.py:89: RequestsDependencyWarning: urllib3 (1.26.11) or chardet (3.0.4) doesn't match a supported version!\n",
      "  warnings.warn(\"urllib3 ({}) or chardet ({}) doesn't match a supported \"\n"
     ]
    }
   ],
   "source": [
    "import requests\n",
    "from bs4 import BeautifulSoup\n",
    "import pandas as pd\n",
    "import numpy as np\n",
    "import time \n",
    "import ipywidgets as widgets\n",
    "from ipywidgets import interact, interactive, fixed, interact_manual,Layout\n",
    "from tqdm.notebook import tnrange,tqdm\n",
    "from flask import Response\n",
    "from datetime import datetime\n",
    "from pprint import pprint\n",
    "import requests as r\n",
    "import time\n",
    "import json\n",
    "import pandas as pd\n",
    "import requests, json\n",
    "import datetime as dt\n",
    "from pandas.io.json import json_normalize\n",
    "import matplotlib.pyplot as plt\n",
    "from matplotlib import style\n",
    "style.use('ggplot')"
   ]
  },
  {
   "cell_type": "code",
   "execution_count": 2,
   "id": "5a1f9be7",
   "metadata": {},
   "outputs": [],
   "source": [
    "class Web_Scarpping:\n",
    "    def __init__(self,f):\n",
    "        self.f=f\n",
    "    def scrapper(self):\n",
    "        html=requests.get(self.f)\n",
    "        html1=html.content\n",
    "        soup=BeautifulSoup(html1,\"html.parser\")\n",
    "        anchors = soup.find_all('a')\n",
    "        #print(anchors)\n",
    "        all_links=set()\n",
    "        # get all required links\n",
    "        for link in anchors:\n",
    "            a=link.get('href')\n",
    "            if(link.get('href')!='#' and link.get('href')!=None and a[-2:]==\"en\" ):\n",
    "                if len(a)==11:\n",
    "                    linktext=\"https://opentender.eu\"+link.get(\"href\")\n",
    "                    all_links.add(linktext)\n",
    "        all_links_list=list(all_links)\n",
    "        print(all_links_list,len(all_links_list))\n",
    "        data={}\n",
    "        i=1\n",
    "        for lk in all_links_list:\n",
    "            country_code=lk[-10:-8]\n",
    "\n",
    "            url=requests.get(lk)\n",
    "            url1=url.content\n",
    "            soup=BeautifulSoup(url1,\"html.parser\")\n",
    "            country_name=soup.find(\"span\",class_=\"header-logo-brand_country\").text\n",
    "            action_postURL=\"https://opentender.eu/api/\"+country_code+\"/home/stats\"\n",
    "            res = requests.get(action_postURL)\n",
    "            res = r.get(action_postURL)\n",
    "            res.status_code\n",
    "            res.headers['content-type']\n",
    "            res.encoding\n",
    "            res.text\n",
    "            res.content\n",
    "            time.sleep(5)\n",
    "            res.cookies\n",
    "            search_cookies = res.cookies\n",
    "            headers ={'user-agent':\"Mozilla/5.0 (X11; Linux x86_64) AppleWebKit/537.36 (KHTML, like Gecko) Chrome/104.0.0.0 Safari/537.36\"}\n",
    "            res_post = r.post(action_postURL,cookies=search_cookies,headers = headers)\n",
    "            values = res_post.json()\n",
    "            val=values['data']['histogram']\n",
    "            for j in val:\n",
    "                data[i] = {\n",
    "                    'url' :lk,\n",
    "                    'Country_Name':country_name,\n",
    "                    'Country_Code': country_code,\n",
    "                    'Year' :j,\n",
    "                    'Number_Of_Tender':val[j]\n",
    "                }\n",
    "                i+=1\n",
    "        df=pd.DataFrame(data)\n",
    "        df1=df.transpose()\n",
    "        #df1.head(5)\n",
    "        df1 = df1[['url','Country_Name','Country_Code','Year','Number_Of_Tender']]\n",
    "        df1.to_csv('scrapper_output.csv')\n",
    "        print('Successfully file created')\n",
    "        df2=pd.read_csv(\"scrapper_output.csv\")\n",
    "        #df2.head(5)\n",
    "        #Analysis of countrywise number of tender\n",
    "        print(\"Analysis of countrywise number of tender\")\n",
    "        gdf=df2[[\"Country_Name\",'Number_Of_Tender']]\n",
    "        g = gdf.groupby(\"Country_Name\")\n",
    "        gdf1=g.sum()\n",
    "        %matplotlib inline\n",
    "        gdf1.plot(kind='bar')\n",
    "        "
   ]
  },
  {
   "cell_type": "code",
   "execution_count": 3,
   "id": "51b5a1d5",
   "metadata": {},
   "outputs": [
    {
     "name": "stdout",
     "output_type": "stream",
     "text": [
      "['https://opentender.eu/fi?lang=en', 'https://opentender.eu/ee?lang=en', 'https://opentender.eu/dk?lang=en', 'https://opentender.eu/pt?lang=en', 'https://opentender.eu/ro?lang=en', 'https://opentender.eu/nl?lang=en', 'https://opentender.eu/no?lang=en', 'https://opentender.eu/bg?lang=en', 'https://opentender.eu/lu?lang=en', 'https://opentender.eu/hr?lang=en', 'https://opentender.eu/cz?lang=en', 'https://opentender.eu/lt?lang=en', 'https://opentender.eu/es?lang=en', 'https://opentender.eu/it?lang=en', 'https://opentender.eu/at?lang=en', 'https://opentender.eu/ge?lang=en', 'https://opentender.eu/de?lang=en', 'https://opentender.eu/lv?lang=en', 'https://opentender.eu/ie?lang=en', 'https://opentender.eu/ch?lang=en', 'https://opentender.eu/si?lang=en', 'https://opentender.eu/uk?lang=en', 'https://opentender.eu/eu?lang=en', 'https://opentender.eu/fr?lang=en', 'https://opentender.eu/be?lang=en', 'https://opentender.eu/mt?lang=en', 'https://opentender.eu/gr?lang=en', 'https://opentender.eu/pl?lang=en', 'https://opentender.eu/se?lang=en', 'https://opentender.eu/cy?lang=en', 'https://opentender.eu/is?lang=en', 'https://opentender.eu/sk?lang=en', 'https://opentender.eu/hu?lang=en'] 33\n",
      "Successfully file created\n",
      "Analysis of countrywise number of tender\n"
     ]
    },
    {
     "data": {
      "image/png": "[encoded data removed]",
      "text/plain": [
       "<Figure size 432x288 with 1 Axes>"
      ]
     },
     "metadata": {
      "needs_background": "light"
     },
     "output_type": "display_data"
    }
   ],
   "source": [
    "A=Web_Scarpping('https://opentender.eu')\n",
    "A.scrapper()    "
   ]
  },
  {
   "cell_type": "code",
   "execution_count": null,
   "id": "55e22cb2",
   "metadata": {},
   "outputs": [],
   "source": [
    " "
   ]
  },
  {
   "cell_type": "code",
   "execution_count": null,
   "id": "90426831",
   "metadata": {},
   "outputs": [],
   "source": [
    " "
   ]
  },
  {
   "cell_type": "code",
   "execution_count": null,
   "id": "4a2344f6",
   "metadata": {},
   "outputs": [],
   "source": [
    " "
   ]
  },
  {
   "cell_type": "code",
   "execution_count": null,
   "id": "26a0816a",
   "metadata": {},
   "outputs": [],
   "source": [
    " "
   ]
  },
  {
   "cell_type": "code",
   "execution_count": null,
   "id": "a773ad57",
   "metadata": {},
   "outputs": [],
   "source": [
    " "
   ]
  },
  {
   "cell_type": "code",
   "execution_count": null,
   "id": "ca3b23d4",
   "metadata": {},
   "outputs": [],
   "source": [
    " "
   ]
  },
  {
   "cell_type": "code",
   "execution_count": null,
   "id": "ca1b2f8a",
   "metadata": {},
   "outputs": [],
   "source": []
  },
  {
   "cell_type": "code",
   "execution_count": null,
   "id": "541840f6",
   "metadata": {},
   "outputs": [],
   "source": []
  }
 ],
 "metadata": {
  "kernelspec": {
   "display_name": "Python 3 (ipykernel)",
   "language": "python",
   "name": "python3"
  },
  "language_info": {
   "codemirror_mode": {
    "name": "ipython",
    "version": 3
   },
   "file_extension": ".py",
   "mimetype": "text/x-python",
   "name": "python",
   "nbconvert_exporter": "python",
   "pygments_lexer": "ipython3",
   "version": "3.8.10"
  }
 },
 "nbformat": 4,
 "nbformat_minor": 5
}
